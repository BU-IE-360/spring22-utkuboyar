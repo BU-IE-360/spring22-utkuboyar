{
 "cells": [
  {
   "cell_type": "markdown",
   "metadata": {},
   "source": [
    "# IE360 Assignment 1"
   ]
  },
  {
   "cell_type": "markdown",
   "metadata": {},
   "source": [
    "Utku Boyar - 2018402144"
   ]
  },
  {
   "cell_type": "markdown",
   "metadata": {},
   "source": [
    "# Introduction"
   ]
  },
  {
   "cell_type": "markdown",
   "metadata": {},
   "source": [
    "The common point that brings the sub questions of this paper is the query that what sorts of relations inflation have. About what it does cause and what  it is caused by. The questions related to this are interesting for two reasons. Firstly, it is tempting to investigate the theoretical ideas from macroeconomics on real life data to see whether they hold or some other factors affect the outcomes. Secondly and more to the topic, Turkey is currently undergoing a relatively significant degree of inflation. So analyzing the effects of such a phenomenon is intriguing. \n",
    "\n",
    "Accordingly, the data from the EVDS platform of the Central Bank is obtained from five different measures, one of which is consumer price index (CPI) -being there as the main indicator of the inflation- and the others are the measurements that are purported to be correlated with the inflation. The first measurement other than CPI is the number of credit/debit card transactions in markets and shopping centers -carried by the \"transactions\" column of the dataset. The reason for the choice of this measurement is that this is an indicator of the amount of individual consumption. The number of transactions, rather than the amount is chosen to eliminate, to some extent, the effect of the changes in the prices. According to some, inflation and consumption are positively correlated as the former gives an incentive to consumers to buy now, instead of later. The second measure is USD/TRY exchange rates (\"USD\" column). The cost of many of the raw materials are somehow dependent on this rate, as transhipment of items and many of the raw materials are bought with USD. So a rise in USD/TRY rate is expected to increase the prices, hence positive correlation between the two. Another measure is the weighted average interest rates offered by banks for personal loans. This may be negatively correlated to consumption, as lower interest rates give more money to consumers to spend. However, the consumption data are from shopping malls and markets, somewhere people do not generally borrow money to spend in. This casts some doubt on the amount of correlation between the two measures. The last measure is the unemployment rate (\"unemployment\" column). This is thought to be negatively correlated with inflation.  \n",
    "\n",
    "Later, another dataset is obtained from Google Trends, which is a measure for the number of search operations for certain words on Google search engine. The two words selected are \"faiz oranı (interest rate)\" and \"dolar (USD/TRY exchange rate is meant)\". They are expected to be positively correlated with not their corresponding measures themselves but sharp or unexpected changes in them.\n",
    "\n",
    "Both data are sampled monthly from 2014 to 2022. There is no data collected for some measures in some slice of time. The convention used below for handling this missing data situation is dropping them. After the adjustments, the EVDS data are from March 2014 to February 2022, and the Google Trends data are from January 2014 to March 2022.\n"
   ]
  },
  {
   "cell_type": "markdown",
   "metadata": {},
   "source": [
    "# EVDS Data"
   ]
  },
  {
   "cell_type": "code",
   "execution_count": 1,
   "metadata": {},
   "outputs": [
    {
     "data": {
      "text/html": [
       "<div>\n",
       "<style scoped>\n",
       "    .dataframe tbody tr th:only-of-type {\n",
       "        vertical-align: middle;\n",
       "    }\n",
       "\n",
       "    .dataframe tbody tr th {\n",
       "        vertical-align: top;\n",
       "    }\n",
       "\n",
       "    .dataframe thead th {\n",
       "        text-align: right;\n",
       "    }\n",
       "</style>\n",
       "<table border=\"1\" class=\"dataframe\">\n",
       "  <thead>\n",
       "    <tr style=\"text-align: right;\">\n",
       "      <th></th>\n",
       "      <th>Date</th>\n",
       "      <th>TP KKISLADE KA16</th>\n",
       "      <th>TP DK USD A YTL</th>\n",
       "      <th>TP KTF10</th>\n",
       "      <th>TP FG J0</th>\n",
       "      <th>TP TIG08</th>\n",
       "    </tr>\n",
       "  </thead>\n",
       "  <tbody>\n",
       "    <tr>\n",
       "      <th>0</th>\n",
       "      <td>2009-10</td>\n",
       "      <td>0,00</td>\n",
       "      <td>1,46</td>\n",
       "      <td>17,03</td>\n",
       "      <td>167,88</td>\n",
       "      <td>NaN</td>\n",
       "    </tr>\n",
       "    <tr>\n",
       "      <th>1</th>\n",
       "      <td>2009-11</td>\n",
       "      <td>0,00</td>\n",
       "      <td>1,48</td>\n",
       "      <td>15,01</td>\n",
       "      <td>170,01</td>\n",
       "      <td>NaN</td>\n",
       "    </tr>\n",
       "    <tr>\n",
       "      <th>2</th>\n",
       "      <td>2009-12</td>\n",
       "      <td>0,00</td>\n",
       "      <td>1,50</td>\n",
       "      <td>15,07</td>\n",
       "      <td>170,91</td>\n",
       "      <td>NaN</td>\n",
       "    </tr>\n",
       "    <tr>\n",
       "      <th>3</th>\n",
       "      <td>2010-01</td>\n",
       "      <td>0,00</td>\n",
       "      <td>1,47</td>\n",
       "      <td>14,96</td>\n",
       "      <td>174,07</td>\n",
       "      <td>NaN</td>\n",
       "    </tr>\n",
       "    <tr>\n",
       "      <th>4</th>\n",
       "      <td>2010-02</td>\n",
       "      <td>0,00</td>\n",
       "      <td>1,51</td>\n",
       "      <td>14,44</td>\n",
       "      <td>176,59</td>\n",
       "      <td>NaN</td>\n",
       "    </tr>\n",
       "  </tbody>\n",
       "</table>\n",
       "</div>"
      ],
      "text/plain": [
       "      Date TP KKISLADE KA16 TP DK USD A YTL TP KTF10 TP FG J0 TP TIG08\n",
       "0  2009-10             0,00            1,46    17,03   167,88      NaN\n",
       "1  2009-11             0,00            1,48    15,01   170,01      NaN\n",
       "2  2009-12             0,00            1,50    15,07   170,91      NaN\n",
       "3  2010-01             0,00            1,47    14,96   174,07      NaN\n",
       "4  2010-02             0,00            1,51    14,44   176,59      NaN"
      ]
     },
     "execution_count": 1,
     "metadata": {},
     "output_type": "execute_result"
    }
   ],
   "source": [
    "import pandas as pd\n",
    "import numpy as np\n",
    "import matplotlib.pyplot as plt\n",
    "import seaborn as sns\n",
    "\n",
    "inflation = pd.read_csv(\"EVDS_data.csv\",sep=\";\")\n",
    "inflation.head()"
   ]
  },
  {
   "cell_type": "code",
   "execution_count": 2,
   "metadata": {},
   "outputs": [
    {
     "name": "stdout",
     "output_type": "stream",
     "text": [
      "<class 'pandas.core.frame.DataFrame'>\n",
      "RangeIndex: 182 entries, 0 to 181\n",
      "Data columns (total 6 columns):\n",
      " #   Column            Non-Null Count  Dtype \n",
      "---  ------            --------------  ----- \n",
      " 0   Date              163 non-null    object\n",
      " 1   TP KKISLADE KA16  177 non-null    object\n",
      " 2   TP DK USD A YTL   177 non-null    object\n",
      " 3   TP KTF10          151 non-null    object\n",
      " 4   TP FG J0          150 non-null    object\n",
      " 5   TP TIG08          98 non-null     object\n",
      "dtypes: object(6)\n",
      "memory usage: 8.7+ KB\n"
     ]
    }
   ],
   "source": [
    "inflation.info()"
   ]
  },
  {
   "cell_type": "markdown",
   "metadata": {},
   "source": [
    "The names and the data types of the columns should be adjusted and some formatting is needed before the analysis. Currently, the numeric columns are of Excel format. This also is to be formatted. Finally, the rows containing null values are dropped."
   ]
  },
  {
   "cell_type": "code",
   "execution_count": 3,
   "metadata": {},
   "outputs": [
    {
     "name": "stdout",
     "output_type": "stream",
     "text": [
      "<class 'pandas.core.frame.DataFrame'>\n",
      "Int64Index: 98 entries, 51 to 148\n",
      "Data columns (total 6 columns):\n",
      " #   Column             Non-Null Count  Dtype         \n",
      "---  ------             --------------  -----         \n",
      " 0   Date               98 non-null     datetime64[ns]\n",
      " 1   transactions       98 non-null     int32         \n",
      " 2   USD                98 non-null     float64       \n",
      " 3   interest_rate      98 non-null     float64       \n",
      " 4   CPI                98 non-null     float64       \n",
      " 5   unemployment_rate  98 non-null     float64       \n",
      "dtypes: datetime64[ns](1), float64(4), int32(1)\n",
      "memory usage: 5.0 KB\n",
      "None\n"
     ]
    },
    {
     "data": {
      "text/html": [
       "<div>\n",
       "<style scoped>\n",
       "    .dataframe tbody tr th:only-of-type {\n",
       "        vertical-align: middle;\n",
       "    }\n",
       "\n",
       "    .dataframe tbody tr th {\n",
       "        vertical-align: top;\n",
       "    }\n",
       "\n",
       "    .dataframe thead th {\n",
       "        text-align: right;\n",
       "    }\n",
       "</style>\n",
       "<table border=\"1\" class=\"dataframe\">\n",
       "  <thead>\n",
       "    <tr style=\"text-align: right;\">\n",
       "      <th></th>\n",
       "      <th>Date</th>\n",
       "      <th>transactions</th>\n",
       "      <th>USD</th>\n",
       "      <th>interest_rate</th>\n",
       "      <th>CPI</th>\n",
       "      <th>unemployment_rate</th>\n",
       "    </tr>\n",
       "  </thead>\n",
       "  <tbody>\n",
       "    <tr>\n",
       "      <th>51</th>\n",
       "      <td>2014-01-01</td>\n",
       "      <td>0</td>\n",
       "      <td>2.22</td>\n",
       "      <td>15.03</td>\n",
       "      <td>233.54</td>\n",
       "      <td>9.2</td>\n",
       "    </tr>\n",
       "    <tr>\n",
       "      <th>52</th>\n",
       "      <td>2014-02-01</td>\n",
       "      <td>0</td>\n",
       "      <td>2.21</td>\n",
       "      <td>16.83</td>\n",
       "      <td>234.54</td>\n",
       "      <td>9.5</td>\n",
       "    </tr>\n",
       "    <tr>\n",
       "      <th>53</th>\n",
       "      <td>2014-03-01</td>\n",
       "      <td>88442695</td>\n",
       "      <td>2.22</td>\n",
       "      <td>17.15</td>\n",
       "      <td>237.18</td>\n",
       "      <td>9.5</td>\n",
       "    </tr>\n",
       "    <tr>\n",
       "      <th>54</th>\n",
       "      <td>2014-04-01</td>\n",
       "      <td>89593310</td>\n",
       "      <td>2.13</td>\n",
       "      <td>16.87</td>\n",
       "      <td>240.37</td>\n",
       "      <td>9.7</td>\n",
       "    </tr>\n",
       "    <tr>\n",
       "      <th>55</th>\n",
       "      <td>2014-05-01</td>\n",
       "      <td>113839901</td>\n",
       "      <td>2.09</td>\n",
       "      <td>16.68</td>\n",
       "      <td>241.32</td>\n",
       "      <td>9.7</td>\n",
       "    </tr>\n",
       "  </tbody>\n",
       "</table>\n",
       "</div>"
      ],
      "text/plain": [
       "         Date  transactions   USD  interest_rate     CPI  unemployment_rate\n",
       "51 2014-01-01             0  2.22          15.03  233.54                9.2\n",
       "52 2014-02-01             0  2.21          16.83  234.54                9.5\n",
       "53 2014-03-01      88442695  2.22          17.15  237.18                9.5\n",
       "54 2014-04-01      89593310  2.13          16.87  240.37                9.7\n",
       "55 2014-05-01     113839901  2.09          16.68  241.32                9.7"
      ]
     },
     "execution_count": 3,
     "metadata": {},
     "output_type": "execute_result"
    }
   ],
   "source": [
    "inflation = inflation.rename(columns={'TP KKISLADE KA16': 'transactions', 'TP DK USD A YTL': 'USD', 'TP KTF10': 'interest_rate', 'TP FG J0': 'CPI', 'TP TIG08': 'unemployment_rate'})\n",
    "\n",
    "for col in list(inflation.columns):\n",
    "    if col != 'Date':\n",
    "        inflation[col] = pd.to_numeric(inflation[col].str.replace('.', '').str.replace(',','.'), errors=\"coerce\")\n",
    "        \n",
    "inflation['Date'] = pd.to_datetime(inflation['Date'], errors=\"coerce\", format=\"%Y-%m\")\n",
    "inflation = inflation.dropna()\n",
    "inflation['transactions'] = inflation['transactions'].astype(\"int\")\n",
    "inflation = inflation.sort_values('Date', ascending=True)\n",
    "print(inflation.info())\n",
    "inflation.head()"
   ]
  },
  {
   "cell_type": "markdown",
   "metadata": {},
   "source": [
    "There are still some rows with not null but zero values. These are dropped also."
   ]
  },
  {
   "cell_type": "code",
   "execution_count": 4,
   "metadata": {},
   "outputs": [
    {
     "data": {
      "text/html": [
       "<div>\n",
       "<style scoped>\n",
       "    .dataframe tbody tr th:only-of-type {\n",
       "        vertical-align: middle;\n",
       "    }\n",
       "\n",
       "    .dataframe tbody tr th {\n",
       "        vertical-align: top;\n",
       "    }\n",
       "\n",
       "    .dataframe thead th {\n",
       "        text-align: right;\n",
       "    }\n",
       "</style>\n",
       "<table border=\"1\" class=\"dataframe\">\n",
       "  <thead>\n",
       "    <tr style=\"text-align: right;\">\n",
       "      <th></th>\n",
       "      <th>Date</th>\n",
       "      <th>transactions</th>\n",
       "      <th>USD</th>\n",
       "      <th>interest_rate</th>\n",
       "      <th>CPI</th>\n",
       "      <th>unemployment_rate</th>\n",
       "    </tr>\n",
       "  </thead>\n",
       "  <tbody>\n",
       "    <tr>\n",
       "      <th>51</th>\n",
       "      <td>2014-01-01</td>\n",
       "      <td>0</td>\n",
       "      <td>2.22</td>\n",
       "      <td>15.03</td>\n",
       "      <td>233.54</td>\n",
       "      <td>9.2</td>\n",
       "    </tr>\n",
       "    <tr>\n",
       "      <th>52</th>\n",
       "      <td>2014-02-01</td>\n",
       "      <td>0</td>\n",
       "      <td>2.21</td>\n",
       "      <td>16.83</td>\n",
       "      <td>234.54</td>\n",
       "      <td>9.5</td>\n",
       "    </tr>\n",
       "  </tbody>\n",
       "</table>\n",
       "</div>"
      ],
      "text/plain": [
       "         Date  transactions   USD  interest_rate     CPI  unemployment_rate\n",
       "51 2014-01-01             0  2.22          15.03  233.54                9.2\n",
       "52 2014-02-01             0  2.21          16.83  234.54                9.5"
      ]
     },
     "execution_count": 4,
     "metadata": {},
     "output_type": "execute_result"
    }
   ],
   "source": [
    "zeros = inflation[inflation['transactions'] <= 0]\n",
    "zeros"
   ]
  },
  {
   "cell_type": "markdown",
   "metadata": {},
   "source": [
    "The two rows with zero values are placed at the very beginning. Probably, there were no recording for transactions on their corresponding dates. So it can be assumed to be safe to drop those rows."
   ]
  },
  {
   "cell_type": "code",
   "execution_count": 5,
   "metadata": {},
   "outputs": [
    {
     "data": {
      "text/html": [
       "<div>\n",
       "<style scoped>\n",
       "    .dataframe tbody tr th:only-of-type {\n",
       "        vertical-align: middle;\n",
       "    }\n",
       "\n",
       "    .dataframe tbody tr th {\n",
       "        vertical-align: top;\n",
       "    }\n",
       "\n",
       "    .dataframe thead th {\n",
       "        text-align: right;\n",
       "    }\n",
       "</style>\n",
       "<table border=\"1\" class=\"dataframe\">\n",
       "  <thead>\n",
       "    <tr style=\"text-align: right;\">\n",
       "      <th></th>\n",
       "      <th>Date</th>\n",
       "      <th>transactions</th>\n",
       "      <th>USD</th>\n",
       "      <th>interest_rate</th>\n",
       "      <th>CPI</th>\n",
       "      <th>unemployment_rate</th>\n",
       "    </tr>\n",
       "  </thead>\n",
       "  <tbody>\n",
       "    <tr>\n",
       "      <th>0</th>\n",
       "      <td>2014-03-01</td>\n",
       "      <td>88442695</td>\n",
       "      <td>2.22</td>\n",
       "      <td>17.15</td>\n",
       "      <td>237.18</td>\n",
       "      <td>9.5</td>\n",
       "    </tr>\n",
       "    <tr>\n",
       "      <th>1</th>\n",
       "      <td>2014-04-01</td>\n",
       "      <td>89593310</td>\n",
       "      <td>2.13</td>\n",
       "      <td>16.87</td>\n",
       "      <td>240.37</td>\n",
       "      <td>9.7</td>\n",
       "    </tr>\n",
       "    <tr>\n",
       "      <th>2</th>\n",
       "      <td>2014-05-01</td>\n",
       "      <td>113839901</td>\n",
       "      <td>2.09</td>\n",
       "      <td>16.68</td>\n",
       "      <td>241.32</td>\n",
       "      <td>9.7</td>\n",
       "    </tr>\n",
       "    <tr>\n",
       "      <th>3</th>\n",
       "      <td>2014-06-01</td>\n",
       "      <td>93962733</td>\n",
       "      <td>2.12</td>\n",
       "      <td>15.96</td>\n",
       "      <td>242.07</td>\n",
       "      <td>9.7</td>\n",
       "    </tr>\n",
       "    <tr>\n",
       "      <th>4</th>\n",
       "      <td>2014-07-01</td>\n",
       "      <td>92328322</td>\n",
       "      <td>2.12</td>\n",
       "      <td>15.32</td>\n",
       "      <td>243.17</td>\n",
       "      <td>9.9</td>\n",
       "    </tr>\n",
       "    <tr>\n",
       "      <th>...</th>\n",
       "      <td>...</td>\n",
       "      <td>...</td>\n",
       "      <td>...</td>\n",
       "      <td>...</td>\n",
       "      <td>...</td>\n",
       "      <td>...</td>\n",
       "    </tr>\n",
       "    <tr>\n",
       "      <th>91</th>\n",
       "      <td>2021-10-01</td>\n",
       "      <td>298875941</td>\n",
       "      <td>9.14</td>\n",
       "      <td>23.34</td>\n",
       "      <td>584.32</td>\n",
       "      <td>11.1</td>\n",
       "    </tr>\n",
       "    <tr>\n",
       "      <th>92</th>\n",
       "      <td>2021-11-01</td>\n",
       "      <td>246774590</td>\n",
       "      <td>10.52</td>\n",
       "      <td>23.44</td>\n",
       "      <td>604.84</td>\n",
       "      <td>11.1</td>\n",
       "    </tr>\n",
       "    <tr>\n",
       "      <th>93</th>\n",
       "      <td>2021-12-01</td>\n",
       "      <td>323952533</td>\n",
       "      <td>13.53</td>\n",
       "      <td>26.54</td>\n",
       "      <td>686.95</td>\n",
       "      <td>11.1</td>\n",
       "    </tr>\n",
       "    <tr>\n",
       "      <th>94</th>\n",
       "      <td>2022-01-01</td>\n",
       "      <td>256257819</td>\n",
       "      <td>13.52</td>\n",
       "      <td>31.70</td>\n",
       "      <td>763.23</td>\n",
       "      <td>11.2</td>\n",
       "    </tr>\n",
       "    <tr>\n",
       "      <th>95</th>\n",
       "      <td>2022-02-01</td>\n",
       "      <td>264335442</td>\n",
       "      <td>13.62</td>\n",
       "      <td>29.87</td>\n",
       "      <td>799.93</td>\n",
       "      <td>10.7</td>\n",
       "    </tr>\n",
       "  </tbody>\n",
       "</table>\n",
       "<p>96 rows × 6 columns</p>\n",
       "</div>"
      ],
      "text/plain": [
       "         Date  transactions    USD  interest_rate     CPI  unemployment_rate\n",
       "0  2014-03-01      88442695   2.22          17.15  237.18                9.5\n",
       "1  2014-04-01      89593310   2.13          16.87  240.37                9.7\n",
       "2  2014-05-01     113839901   2.09          16.68  241.32                9.7\n",
       "3  2014-06-01      93962733   2.12          15.96  242.07                9.7\n",
       "4  2014-07-01      92328322   2.12          15.32  243.17                9.9\n",
       "..        ...           ...    ...            ...     ...                ...\n",
       "91 2021-10-01     298875941   9.14          23.34  584.32               11.1\n",
       "92 2021-11-01     246774590  10.52          23.44  604.84               11.1\n",
       "93 2021-12-01     323952533  13.53          26.54  686.95               11.1\n",
       "94 2022-01-01     256257819  13.52          31.70  763.23               11.2\n",
       "95 2022-02-01     264335442  13.62          29.87  799.93               10.7\n",
       "\n",
       "[96 rows x 6 columns]"
      ]
     },
     "execution_count": 5,
     "metadata": {},
     "output_type": "execute_result"
    }
   ],
   "source": [
    "inflation = inflation.drop(zeros.index, axis=0)\n",
    "inflation = inflation.reset_index(drop=True)\n",
    "inflation"
   ]
  },
  {
   "cell_type": "markdown",
   "metadata": {},
   "source": [
    "Now the dataframe is cleaned and ready to make analysis on. Let us first plot it. The following function is for plotting the columns of the data other than date, with the date column placed on the x axis. The plotting is done line by line to see some possible correlations more easily."
   ]
  },
  {
   "cell_type": "code",
   "execution_count": 6,
   "metadata": {},
   "outputs": [],
   "source": [
    "def plotAll(df, x_axis_name, plot_type):\n",
    "    fig, ax = plt.subplots(len(df.columns)-1)\n",
    "    plt.grid(True)\n",
    "    plt.clf()\n",
    "    i = 0\n",
    "    for col in df.columns:\n",
    "        if col == x_axis_name:\n",
    "            continue\n",
    "        ax[i] = df.plot(x=x_axis_name, y=col, kind=plot_type)\n",
    "        ax[i].set_title(col)\n",
    "        plt.grid(True)\n",
    "        i += 1\n",
    "    plt.show()"
   ]
  },
  {
   "cell_type": "code",
   "execution_count": 7,
   "metadata": {},
   "outputs": [
    {
     "data": {
      "text/plain": [
       "<Figure size 432x288 with 0 Axes>"
      ]
     },
     "metadata": {},
     "output_type": "display_data"
    },
    {
     "data": {
      "image/png": "[encoded data removed]",
      "text/plain": [
       "<Figure size 432x288 with 1 Axes>"
      ]
     },
     "metadata": {
      "needs_background": "light"
     },
     "output_type": "display_data"
    },
    {
     "data": {
      "image/png": "[encoded data removed]",
      "text/plain": [
       "<Figure size 432x288 with 1 Axes>"
      ]
     },
     "metadata": {
      "needs_background": "light"
     },
     "output_type": "display_data"
    },
    {
     "data": {
      "image/png": "[encoded data removed]",
      "text/plain": [
       "<Figure size 432x288 with 1 Axes>"
      ]
     },
     "metadata": {
      "needs_background": "light"
     },
     "output_type": "display_data"
    },
    {
     "data": {
      "image/png": "[encoded data removed]",
      "text/plain": [
       "<Figure size 432x288 with 1 Axes>"
      ]
     },
     "metadata": {
      "needs_background": "light"
     },
     "output_type": "display_data"
    },
    {
     "data": {
      "image/png": "[encoded data removed]",
      "text/plain": [
       "<Figure size 432x288 with 1 Axes>"
      ]
     },
     "metadata": {
      "needs_background": "light"
     },
     "output_type": "display_data"
    }
   ],
   "source": [
    "plotAll(inflation, x_axis_name='Date', plot_type='line')"
   ]
  },
  {
   "cell_type": "markdown",
   "metadata": {},
   "source": [
    "Although having patterns distinct from each other, each of the measures appears to have a positive trend over time. Let us compute the correlations between them to get the first numerical output of the analysis."
   ]
  },
  {
   "cell_type": "code",
   "execution_count": 8,
   "metadata": {},
   "outputs": [
    {
     "data": {
      "text/html": [
       "<div>\n",
       "<style scoped>\n",
       "    .dataframe tbody tr th:only-of-type {\n",
       "        vertical-align: middle;\n",
       "    }\n",
       "\n",
       "    .dataframe tbody tr th {\n",
       "        vertical-align: top;\n",
       "    }\n",
       "\n",
       "    .dataframe thead th {\n",
       "        text-align: right;\n",
       "    }\n",
       "</style>\n",
       "<table border=\"1\" class=\"dataframe\">\n",
       "  <thead>\n",
       "    <tr style=\"text-align: right;\">\n",
       "      <th></th>\n",
       "      <th>transactions</th>\n",
       "      <th>USD</th>\n",
       "      <th>interest_rate</th>\n",
       "      <th>CPI</th>\n",
       "      <th>unemployment_rate</th>\n",
       "    </tr>\n",
       "  </thead>\n",
       "  <tbody>\n",
       "    <tr>\n",
       "      <th>transactions</th>\n",
       "      <td>1.000000</td>\n",
       "      <td>0.905112</td>\n",
       "      <td>0.427742</td>\n",
       "      <td>0.912421</td>\n",
       "      <td>0.434932</td>\n",
       "    </tr>\n",
       "    <tr>\n",
       "      <th>USD</th>\n",
       "      <td>0.905112</td>\n",
       "      <td>1.000000</td>\n",
       "      <td>0.510716</td>\n",
       "      <td>0.990095</td>\n",
       "      <td>0.484971</td>\n",
       "    </tr>\n",
       "    <tr>\n",
       "      <th>interest_rate</th>\n",
       "      <td>0.427742</td>\n",
       "      <td>0.510716</td>\n",
       "      <td>1.000000</td>\n",
       "      <td>0.490140</td>\n",
       "      <td>0.255460</td>\n",
       "    </tr>\n",
       "    <tr>\n",
       "      <th>CPI</th>\n",
       "      <td>0.912421</td>\n",
       "      <td>0.990095</td>\n",
       "      <td>0.490140</td>\n",
       "      <td>1.000000</td>\n",
       "      <td>0.514235</td>\n",
       "    </tr>\n",
       "    <tr>\n",
       "      <th>unemployment_rate</th>\n",
       "      <td>0.434932</td>\n",
       "      <td>0.484971</td>\n",
       "      <td>0.255460</td>\n",
       "      <td>0.514235</td>\n",
       "      <td>1.000000</td>\n",
       "    </tr>\n",
       "  </tbody>\n",
       "</table>\n",
       "</div>"
      ],
      "text/plain": [
       "                   transactions       USD  interest_rate       CPI  \\\n",
       "transactions           1.000000  0.905112       0.427742  0.912421   \n",
       "USD                    0.905112  1.000000       0.510716  0.990095   \n",
       "interest_rate          0.427742  0.510716       1.000000  0.490140   \n",
       "CPI                    0.912421  0.990095       0.490140  1.000000   \n",
       "unemployment_rate      0.434932  0.484971       0.255460  0.514235   \n",
       "\n",
       "                   unemployment_rate  \n",
       "transactions                0.434932  \n",
       "USD                         0.484971  \n",
       "interest_rate               0.255460  \n",
       "CPI                         0.514235  \n",
       "unemployment_rate           1.000000  "
      ]
     },
     "execution_count": 8,
     "metadata": {},
     "output_type": "execute_result"
    }
   ],
   "source": [
    "inflation.corr()"
   ]
  },
  {
   "cell_type": "markdown",
   "metadata": {},
   "source": [
    "There are high positive correlations between transactions-USD, transactions-CPI, USD-CPI, and moderate positive correlations between USD-interest_rate, CPI-unemployment_rate. While the results for transactions-CPI and USD-CPI are consistent with the statements prior to the analytical analysis, the others are unexpected. One thing that needs to be paid attention to is that, as mentioned above, all of the measures have some significant amount of trend towards the same diretion. So correlations that are seen may be due to this trend phenomenon. In order to see the relationships between the measures without the trend effect, let us adjust the data accordingly using the numpy.diff function."
   ]
  },
  {
   "cell_type": "code",
   "execution_count": 9,
   "metadata": {},
   "outputs": [
    {
     "data": {
      "text/html": [
       "<div>\n",
       "<style scoped>\n",
       "    .dataframe tbody tr th:only-of-type {\n",
       "        vertical-align: middle;\n",
       "    }\n",
       "\n",
       "    .dataframe tbody tr th {\n",
       "        vertical-align: top;\n",
       "    }\n",
       "\n",
       "    .dataframe thead th {\n",
       "        text-align: right;\n",
       "    }\n",
       "</style>\n",
       "<table border=\"1\" class=\"dataframe\">\n",
       "  <thead>\n",
       "    <tr style=\"text-align: right;\">\n",
       "      <th></th>\n",
       "      <th>transactions</th>\n",
       "      <th>USD</th>\n",
       "      <th>interest_rate</th>\n",
       "      <th>CPI</th>\n",
       "      <th>unemployment_rate</th>\n",
       "    </tr>\n",
       "  </thead>\n",
       "  <tbody>\n",
       "    <tr>\n",
       "      <th>0</th>\n",
       "      <td>1150615</td>\n",
       "      <td>-0.09</td>\n",
       "      <td>-0.28</td>\n",
       "      <td>3.19</td>\n",
       "      <td>0.2</td>\n",
       "    </tr>\n",
       "    <tr>\n",
       "      <th>1</th>\n",
       "      <td>24246591</td>\n",
       "      <td>-0.04</td>\n",
       "      <td>-0.19</td>\n",
       "      <td>0.95</td>\n",
       "      <td>0.0</td>\n",
       "    </tr>\n",
       "    <tr>\n",
       "      <th>2</th>\n",
       "      <td>-19877168</td>\n",
       "      <td>0.03</td>\n",
       "      <td>-0.72</td>\n",
       "      <td>0.75</td>\n",
       "      <td>0.0</td>\n",
       "    </tr>\n",
       "    <tr>\n",
       "      <th>3</th>\n",
       "      <td>-1634411</td>\n",
       "      <td>0.00</td>\n",
       "      <td>-0.64</td>\n",
       "      <td>1.10</td>\n",
       "      <td>0.2</td>\n",
       "    </tr>\n",
       "    <tr>\n",
       "      <th>4</th>\n",
       "      <td>16984426</td>\n",
       "      <td>0.04</td>\n",
       "      <td>-0.24</td>\n",
       "      <td>0.23</td>\n",
       "      <td>0.3</td>\n",
       "    </tr>\n",
       "    <tr>\n",
       "      <th>...</th>\n",
       "      <td>...</td>\n",
       "      <td>...</td>\n",
       "      <td>...</td>\n",
       "      <td>...</td>\n",
       "      <td>...</td>\n",
       "    </tr>\n",
       "    <tr>\n",
       "      <th>90</th>\n",
       "      <td>-2874129</td>\n",
       "      <td>0.63</td>\n",
       "      <td>0.06</td>\n",
       "      <td>13.66</td>\n",
       "      <td>-0.2</td>\n",
       "    </tr>\n",
       "    <tr>\n",
       "      <th>91</th>\n",
       "      <td>-52101351</td>\n",
       "      <td>1.38</td>\n",
       "      <td>0.10</td>\n",
       "      <td>20.52</td>\n",
       "      <td>0.0</td>\n",
       "    </tr>\n",
       "    <tr>\n",
       "      <th>92</th>\n",
       "      <td>77177943</td>\n",
       "      <td>3.01</td>\n",
       "      <td>3.10</td>\n",
       "      <td>82.11</td>\n",
       "      <td>0.0</td>\n",
       "    </tr>\n",
       "    <tr>\n",
       "      <th>93</th>\n",
       "      <td>-67694714</td>\n",
       "      <td>-0.01</td>\n",
       "      <td>5.16</td>\n",
       "      <td>76.28</td>\n",
       "      <td>0.1</td>\n",
       "    </tr>\n",
       "    <tr>\n",
       "      <th>94</th>\n",
       "      <td>8077623</td>\n",
       "      <td>0.10</td>\n",
       "      <td>-1.83</td>\n",
       "      <td>36.70</td>\n",
       "      <td>-0.5</td>\n",
       "    </tr>\n",
       "  </tbody>\n",
       "</table>\n",
       "<p>95 rows × 5 columns</p>\n",
       "</div>"
      ],
      "text/plain": [
       "    transactions   USD  interest_rate    CPI  unemployment_rate\n",
       "0        1150615 -0.09          -0.28   3.19                0.2\n",
       "1       24246591 -0.04          -0.19   0.95                0.0\n",
       "2      -19877168  0.03          -0.72   0.75                0.0\n",
       "3       -1634411  0.00          -0.64   1.10                0.2\n",
       "4       16984426  0.04          -0.24   0.23                0.3\n",
       "..           ...   ...            ...    ...                ...\n",
       "90      -2874129  0.63           0.06  13.66               -0.2\n",
       "91     -52101351  1.38           0.10  20.52                0.0\n",
       "92      77177943  3.01           3.10  82.11                0.0\n",
       "93     -67694714 -0.01           5.16  76.28                0.1\n",
       "94       8077623  0.10          -1.83  36.70               -0.5\n",
       "\n",
       "[95 rows x 5 columns]"
      ]
     },
     "execution_count": 9,
     "metadata": {},
     "output_type": "execute_result"
    }
   ],
   "source": [
    "inflation_trend_adjusted = pd.DataFrame({col: np.diff(inflation[col],  n=1) for col in inflation.columns if col != 'Date'})\n",
    "inflation_trend_adjusted"
   ]
  },
  {
   "cell_type": "code",
   "execution_count": 10,
   "metadata": {},
   "outputs": [
    {
     "data": {
      "text/html": [
       "<div>\n",
       "<style scoped>\n",
       "    .dataframe tbody tr th:only-of-type {\n",
       "        vertical-align: middle;\n",
       "    }\n",
       "\n",
       "    .dataframe tbody tr th {\n",
       "        vertical-align: top;\n",
       "    }\n",
       "\n",
       "    .dataframe thead th {\n",
       "        text-align: right;\n",
       "    }\n",
       "</style>\n",
       "<table border=\"1\" class=\"dataframe\">\n",
       "  <thead>\n",
       "    <tr style=\"text-align: right;\">\n",
       "      <th></th>\n",
       "      <th>transactions</th>\n",
       "      <th>USD</th>\n",
       "      <th>interest_rate</th>\n",
       "      <th>CPI</th>\n",
       "      <th>unemployment_rate</th>\n",
       "    </tr>\n",
       "  </thead>\n",
       "  <tbody>\n",
       "    <tr>\n",
       "      <th>transactions</th>\n",
       "      <td>1.000000</td>\n",
       "      <td>0.129979</td>\n",
       "      <td>-0.111149</td>\n",
       "      <td>0.017706</td>\n",
       "      <td>0.105341</td>\n",
       "    </tr>\n",
       "    <tr>\n",
       "      <th>USD</th>\n",
       "      <td>0.129979</td>\n",
       "      <td>1.000000</td>\n",
       "      <td>0.317478</td>\n",
       "      <td>0.610047</td>\n",
       "      <td>-0.022284</td>\n",
       "    </tr>\n",
       "    <tr>\n",
       "      <th>interest_rate</th>\n",
       "      <td>-0.111149</td>\n",
       "      <td>0.317478</td>\n",
       "      <td>1.000000</td>\n",
       "      <td>0.410987</td>\n",
       "      <td>-0.106492</td>\n",
       "    </tr>\n",
       "    <tr>\n",
       "      <th>CPI</th>\n",
       "      <td>0.017706</td>\n",
       "      <td>0.610047</td>\n",
       "      <td>0.410987</td>\n",
       "      <td>1.000000</td>\n",
       "      <td>-0.054377</td>\n",
       "    </tr>\n",
       "    <tr>\n",
       "      <th>unemployment_rate</th>\n",
       "      <td>0.105341</td>\n",
       "      <td>-0.022284</td>\n",
       "      <td>-0.106492</td>\n",
       "      <td>-0.054377</td>\n",
       "      <td>1.000000</td>\n",
       "    </tr>\n",
       "  </tbody>\n",
       "</table>\n",
       "</div>"
      ],
      "text/plain": [
       "                   transactions       USD  interest_rate       CPI  \\\n",
       "transactions           1.000000  0.129979      -0.111149  0.017706   \n",
       "USD                    0.129979  1.000000       0.317478  0.610047   \n",
       "interest_rate         -0.111149  0.317478       1.000000  0.410987   \n",
       "CPI                    0.017706  0.610047       0.410987  1.000000   \n",
       "unemployment_rate      0.105341 -0.022284      -0.106492 -0.054377   \n",
       "\n",
       "                   unemployment_rate  \n",
       "transactions                0.105341  \n",
       "USD                        -0.022284  \n",
       "interest_rate              -0.106492  \n",
       "CPI                        -0.054377  \n",
       "unemployment_rate           1.000000  "
      ]
     },
     "execution_count": 10,
     "metadata": {},
     "output_type": "execute_result"
    }
   ],
   "source": [
    "inflation_trend_adjusted.corr()"
   ]
  },
  {
   "cell_type": "markdown",
   "metadata": {},
   "source": [
    "See both of trend-included and trend-adjusted correlations on heatmaps."
   ]
  },
  {
   "cell_type": "code",
   "execution_count": 11,
   "metadata": {},
   "outputs": [
    {
     "data": {
      "image/png": "[encoded data removed]",
      "text/plain": [
       "<Figure size 432x288 with 2 Axes>"
      ]
     },
     "metadata": {
      "needs_background": "light"
     },
     "output_type": "display_data"
    }
   ],
   "source": [
    "mask = np.triu(np.ones_like(inflation.corr()))\n",
    "dataplot_inflation = sns.heatmap(inflation.corr(), cmap=\"YlGnBu\", annot=True, mask=mask)\n",
    "plt.show()"
   ]
  },
  {
   "cell_type": "code",
   "execution_count": 12,
   "metadata": {},
   "outputs": [
    {
     "data": {
      "image/png": "[encoded data removed]",
      "text/plain": [
       "<Figure size 432x288 with 2 Axes>"
      ]
     },
     "metadata": {
      "needs_background": "light"
     },
     "output_type": "display_data"
    }
   ],
   "source": [
    "mask = np.triu(np.ones_like(inflation_trend_adjusted.corr()))\n",
    "dataplot_inflation_trend_adjusted = sns.heatmap(inflation_trend_adjusted.corr(), cmap=\"YlGnBu\", annot=True, mask=mask)\n",
    "plt.show()"
   ]
  },
  {
   "cell_type": "markdown",
   "metadata": {},
   "source": [
    "After the adjustment of the trend effect, almost all of the correlation values converged to zero. Which is also surprising but at least more reasonable. Now the only pair that may be considered as -somehow to some extent significantly- correlated are USD-CPI. This is reasonable due to the aforementioned argument. The costs of the products depend strongly on the USD, which makes their prices dependent on the USD/TRY exchange rate. \n",
    "\n",
    "However, all the other hypotheses seem to have been challenged. CPI and transactions were expected to have a positive correlation. While they seem to be highly correlated in the trend-included computation, they have almost no correlation at all after the trend adjustment. This may call for an additional and more advanced analysis.\n",
    "\n",
    "The consumption (transactions) and interest rates were expected to be negatively correlated. Their trend adjusted values are negatively correlated, but the amount is so slight that it would not be wise to conclude this hypothesis to be confirmed by the data in hand. As also mentioned in the introduction, it was already doubtful that the amount of their correlation would be great, for the consumption data are from spendings that are small in amount.\n",
    "\n",
    "Finally, the unemployment rate and the inflation (CPI) turned out to be uncorrelated in the trend-adjusted calculation and moderately correlated in the trend-included one. Both of the two results are unexpected for the hypothesis. The latter is worse than being irrelevant, it is contrary to what we would expect under the hypothesis. \n",
    "\n",
    "Unable to find what is expected, let us investigate the Google Trends Data.\n"
   ]
  },
  {
   "cell_type": "markdown",
   "metadata": {},
   "source": [
    "\n",
    "# Google Trends Data"
   ]
  },
  {
   "cell_type": "code",
   "execution_count": 13,
   "metadata": {},
   "outputs": [
    {
     "data": {
      "text/html": [
       "<div>\n",
       "<style scoped>\n",
       "    .dataframe tbody tr th:only-of-type {\n",
       "        vertical-align: middle;\n",
       "    }\n",
       "\n",
       "    .dataframe tbody tr th {\n",
       "        vertical-align: top;\n",
       "    }\n",
       "\n",
       "    .dataframe thead th {\n",
       "        text-align: right;\n",
       "    }\n",
       "</style>\n",
       "<table border=\"1\" class=\"dataframe\">\n",
       "  <thead>\n",
       "    <tr style=\"text-align: right;\">\n",
       "      <th></th>\n",
       "      <th>Kategori: Tüm kategoriler</th>\n",
       "    </tr>\n",
       "  </thead>\n",
       "  <tbody>\n",
       "    <tr>\n",
       "      <th>0</th>\n",
       "      <td>Ay,faiz oranı: (Türkiye)</td>\n",
       "    </tr>\n",
       "    <tr>\n",
       "      <th>1</th>\n",
       "      <td>2014-01,15</td>\n",
       "    </tr>\n",
       "    <tr>\n",
       "      <th>2</th>\n",
       "      <td>2014-02,13</td>\n",
       "    </tr>\n",
       "    <tr>\n",
       "      <th>3</th>\n",
       "      <td>2014-03,10</td>\n",
       "    </tr>\n",
       "    <tr>\n",
       "      <th>4</th>\n",
       "      <td>2014-04,12</td>\n",
       "    </tr>\n",
       "  </tbody>\n",
       "</table>\n",
       "</div>"
      ],
      "text/plain": [
       "  Kategori: Tüm kategoriler\n",
       "0  Ay,faiz oranı: (Türkiye)\n",
       "1                2014-01,15\n",
       "2                2014-02,13\n",
       "3                2014-03,10\n",
       "4                2014-04,12"
      ]
     },
     "execution_count": 13,
     "metadata": {},
     "output_type": "execute_result"
    }
   ],
   "source": [
    "interest_search = pd.read_csv('google_search_faiz.csv', sep=';')\n",
    "interest_search.head()"
   ]
  },
  {
   "cell_type": "markdown",
   "metadata": {},
   "source": [
    "The structure of the data is somehow strange. The two sets (date, and the amount of searches) of information that need to be carried are merged in one column. So this needs to be handled."
   ]
  },
  {
   "cell_type": "code",
   "execution_count": 14,
   "metadata": {},
   "outputs": [
    {
     "data": {
      "text/html": [
       "<div>\n",
       "<style scoped>\n",
       "    .dataframe tbody tr th:only-of-type {\n",
       "        vertical-align: middle;\n",
       "    }\n",
       "\n",
       "    .dataframe tbody tr th {\n",
       "        vertical-align: top;\n",
       "    }\n",
       "\n",
       "    .dataframe thead th {\n",
       "        text-align: right;\n",
       "    }\n",
       "</style>\n",
       "<table border=\"1\" class=\"dataframe\">\n",
       "  <thead>\n",
       "    <tr style=\"text-align: right;\">\n",
       "      <th></th>\n",
       "      <th>Date</th>\n",
       "      <th>number_of_searchs_interest</th>\n",
       "    </tr>\n",
       "  </thead>\n",
       "  <tbody>\n",
       "    <tr>\n",
       "      <th>0</th>\n",
       "      <td>Ay</td>\n",
       "      <td>faiz oranı: (Türkiye)</td>\n",
       "    </tr>\n",
       "    <tr>\n",
       "      <th>1</th>\n",
       "      <td>2014-01</td>\n",
       "      <td>15</td>\n",
       "    </tr>\n",
       "    <tr>\n",
       "      <th>2</th>\n",
       "      <td>2014-02</td>\n",
       "      <td>13</td>\n",
       "    </tr>\n",
       "    <tr>\n",
       "      <th>3</th>\n",
       "      <td>2014-03</td>\n",
       "      <td>10</td>\n",
       "    </tr>\n",
       "    <tr>\n",
       "      <th>4</th>\n",
       "      <td>2014-04</td>\n",
       "      <td>12</td>\n",
       "    </tr>\n",
       "  </tbody>\n",
       "</table>\n",
       "</div>"
      ],
      "text/plain": [
       "      Date number_of_searchs_interest\n",
       "0       Ay      faiz oranı: (Türkiye)\n",
       "1  2014-01                         15\n",
       "2  2014-02                         13\n",
       "3  2014-03                         10\n",
       "4  2014-04                         12"
      ]
     },
     "execution_count": 14,
     "metadata": {},
     "output_type": "execute_result"
    }
   ],
   "source": [
    "def partitionString(df, colID, newColName):\n",
    "    date, col = [], []\n",
    "    for i in range(len(df)):\n",
    "        date.append(df.iloc[i, colID].split(',')[0])\n",
    "        col.append(df.iloc[i, colID].split(',')[1])\n",
    "    df['Date'], df[newColName] = date, col\n",
    "    df = df.drop(df.columns[colID], axis = 1)\n",
    "    return df\n",
    "    \n",
    "interest_search = partitionString(interest_search, 0, 'number_of_searchs_interest')\n",
    "interest_search.head()"
   ]
  },
  {
   "cell_type": "markdown",
   "metadata": {},
   "source": [
    "After that, let us check the data types of the columns, whether there are rows with no information."
   ]
  },
  {
   "cell_type": "code",
   "execution_count": 15,
   "metadata": {},
   "outputs": [
    {
     "name": "stdout",
     "output_type": "stream",
     "text": [
      "<class 'pandas.core.frame.DataFrame'>\n",
      "RangeIndex: 100 entries, 0 to 99\n",
      "Data columns (total 2 columns):\n",
      " #   Column                      Non-Null Count  Dtype \n",
      "---  ------                      --------------  ----- \n",
      " 0   Date                        100 non-null    object\n",
      " 1   number_of_searchs_interest  100 non-null    object\n",
      "dtypes: object(2)\n",
      "memory usage: 1.7+ KB\n"
     ]
    }
   ],
   "source": [
    "interest_search.info()"
   ]
  },
  {
   "cell_type": "markdown",
   "metadata": {},
   "source": [
    "Apply the necessary adjustments and formattings."
   ]
  },
  {
   "cell_type": "code",
   "execution_count": 16,
   "metadata": {},
   "outputs": [
    {
     "name": "stdout",
     "output_type": "stream",
     "text": [
      "<class 'pandas.core.frame.DataFrame'>\n",
      "Int64Index: 99 entries, 1 to 99\n",
      "Data columns (total 2 columns):\n",
      " #   Column                      Non-Null Count  Dtype         \n",
      "---  ------                      --------------  -----         \n",
      " 0   Date                        99 non-null     datetime64[ns]\n",
      " 1   number_of_searchs_interest  99 non-null     int32         \n",
      "dtypes: datetime64[ns](1), int32(1)\n",
      "memory usage: 1.9 KB\n",
      "None\n"
     ]
    },
    {
     "data": {
      "text/html": [
       "<div>\n",
       "<style scoped>\n",
       "    .dataframe tbody tr th:only-of-type {\n",
       "        vertical-align: middle;\n",
       "    }\n",
       "\n",
       "    .dataframe tbody tr th {\n",
       "        vertical-align: top;\n",
       "    }\n",
       "\n",
       "    .dataframe thead th {\n",
       "        text-align: right;\n",
       "    }\n",
       "</style>\n",
       "<table border=\"1\" class=\"dataframe\">\n",
       "  <thead>\n",
       "    <tr style=\"text-align: right;\">\n",
       "      <th></th>\n",
       "      <th>Date</th>\n",
       "      <th>number_of_searchs_interest</th>\n",
       "    </tr>\n",
       "  </thead>\n",
       "  <tbody>\n",
       "    <tr>\n",
       "      <th>1</th>\n",
       "      <td>2014-01-01</td>\n",
       "      <td>15</td>\n",
       "    </tr>\n",
       "    <tr>\n",
       "      <th>2</th>\n",
       "      <td>2014-02-01</td>\n",
       "      <td>13</td>\n",
       "    </tr>\n",
       "    <tr>\n",
       "      <th>3</th>\n",
       "      <td>2014-03-01</td>\n",
       "      <td>10</td>\n",
       "    </tr>\n",
       "    <tr>\n",
       "      <th>4</th>\n",
       "      <td>2014-04-01</td>\n",
       "      <td>12</td>\n",
       "    </tr>\n",
       "    <tr>\n",
       "      <th>5</th>\n",
       "      <td>2014-05-01</td>\n",
       "      <td>12</td>\n",
       "    </tr>\n",
       "    <tr>\n",
       "      <th>...</th>\n",
       "      <td>...</td>\n",
       "      <td>...</td>\n",
       "    </tr>\n",
       "    <tr>\n",
       "      <th>95</th>\n",
       "      <td>2021-11-01</td>\n",
       "      <td>41</td>\n",
       "    </tr>\n",
       "    <tr>\n",
       "      <th>96</th>\n",
       "      <td>2021-12-01</td>\n",
       "      <td>46</td>\n",
       "    </tr>\n",
       "    <tr>\n",
       "      <th>97</th>\n",
       "      <td>2022-01-01</td>\n",
       "      <td>37</td>\n",
       "    </tr>\n",
       "    <tr>\n",
       "      <th>98</th>\n",
       "      <td>2022-02-01</td>\n",
       "      <td>29</td>\n",
       "    </tr>\n",
       "    <tr>\n",
       "      <th>99</th>\n",
       "      <td>2022-03-01</td>\n",
       "      <td>29</td>\n",
       "    </tr>\n",
       "  </tbody>\n",
       "</table>\n",
       "<p>99 rows × 2 columns</p>\n",
       "</div>"
      ],
      "text/plain": [
       "         Date  number_of_searchs_interest\n",
       "1  2014-01-01                          15\n",
       "2  2014-02-01                          13\n",
       "3  2014-03-01                          10\n",
       "4  2014-04-01                          12\n",
       "5  2014-05-01                          12\n",
       "..        ...                         ...\n",
       "95 2021-11-01                          41\n",
       "96 2021-12-01                          46\n",
       "97 2022-01-01                          37\n",
       "98 2022-02-01                          29\n",
       "99 2022-03-01                          29\n",
       "\n",
       "[99 rows x 2 columns]"
      ]
     },
     "execution_count": 16,
     "metadata": {},
     "output_type": "execute_result"
    }
   ],
   "source": [
    "interest_search['number_of_searchs_interest'] = pd.to_numeric(interest_search['number_of_searchs_interest'], errors='coerce')\n",
    "interest_search['Date'] = pd.to_datetime(interest_search['Date'], errors=\"coerce\", format=\"%Y-%m\")\n",
    "interest_search = interest_search.dropna()\n",
    "interest_search = interest_search.sort_values('Date', ascending=True)\n",
    "interest_search['number_of_searchs_interest'] = interest_search['number_of_searchs_interest'].astype('int')\n",
    "print(interest_search.info())\n",
    "interest_search"
   ]
  },
  {
   "cell_type": "markdown",
   "metadata": {},
   "source": [
    "The same operations are required for the \"dollar search\" data too."
   ]
  },
  {
   "cell_type": "code",
   "execution_count": 17,
   "metadata": {},
   "outputs": [
    {
     "data": {
      "text/html": [
       "<div>\n",
       "<style scoped>\n",
       "    .dataframe tbody tr th:only-of-type {\n",
       "        vertical-align: middle;\n",
       "    }\n",
       "\n",
       "    .dataframe tbody tr th {\n",
       "        vertical-align: top;\n",
       "    }\n",
       "\n",
       "    .dataframe thead th {\n",
       "        text-align: right;\n",
       "    }\n",
       "</style>\n",
       "<table border=\"1\" class=\"dataframe\">\n",
       "  <thead>\n",
       "    <tr style=\"text-align: right;\">\n",
       "      <th></th>\n",
       "      <th>Kategori: Tüm kategoriler</th>\n",
       "    </tr>\n",
       "  </thead>\n",
       "  <tbody>\n",
       "    <tr>\n",
       "      <th>0</th>\n",
       "      <td>Ay,dolar: (Türkiye)</td>\n",
       "    </tr>\n",
       "    <tr>\n",
       "      <th>1</th>\n",
       "      <td>2014-01,1</td>\n",
       "    </tr>\n",
       "    <tr>\n",
       "      <th>2</th>\n",
       "      <td>2014-02,1</td>\n",
       "    </tr>\n",
       "    <tr>\n",
       "      <th>3</th>\n",
       "      <td>2014-03,1</td>\n",
       "    </tr>\n",
       "    <tr>\n",
       "      <th>4</th>\n",
       "      <td>2014-04,1</td>\n",
       "    </tr>\n",
       "  </tbody>\n",
       "</table>\n",
       "</div>"
      ],
      "text/plain": [
       "  Kategori: Tüm kategoriler\n",
       "0       Ay,dolar: (Türkiye)\n",
       "1                 2014-01,1\n",
       "2                 2014-02,1\n",
       "3                 2014-03,1\n",
       "4                 2014-04,1"
      ]
     },
     "execution_count": 17,
     "metadata": {},
     "output_type": "execute_result"
    }
   ],
   "source": [
    "dollar_search = pd.read_csv('google_search_dolar.csv', sep=';')\n",
    "dollar_search.head()"
   ]
  },
  {
   "cell_type": "code",
   "execution_count": 18,
   "metadata": {},
   "outputs": [
    {
     "name": "stdout",
     "output_type": "stream",
     "text": [
      "<class 'pandas.core.frame.DataFrame'>\n",
      "Int64Index: 99 entries, 1 to 99\n",
      "Data columns (total 2 columns):\n",
      " #   Column                    Non-Null Count  Dtype         \n",
      "---  ------                    --------------  -----         \n",
      " 0   Date                      99 non-null     datetime64[ns]\n",
      " 1   number_of_searchs_dollar  99 non-null     int32         \n",
      "dtypes: datetime64[ns](1), int32(1)\n",
      "memory usage: 1.9 KB\n",
      "None\n"
     ]
    },
    {
     "data": {
      "text/html": [
       "<div>\n",
       "<style scoped>\n",
       "    .dataframe tbody tr th:only-of-type {\n",
       "        vertical-align: middle;\n",
       "    }\n",
       "\n",
       "    .dataframe tbody tr th {\n",
       "        vertical-align: top;\n",
       "    }\n",
       "\n",
       "    .dataframe thead th {\n",
       "        text-align: right;\n",
       "    }\n",
       "</style>\n",
       "<table border=\"1\" class=\"dataframe\">\n",
       "  <thead>\n",
       "    <tr style=\"text-align: right;\">\n",
       "      <th></th>\n",
       "      <th>Date</th>\n",
       "      <th>number_of_searchs_dollar</th>\n",
       "    </tr>\n",
       "  </thead>\n",
       "  <tbody>\n",
       "    <tr>\n",
       "      <th>1</th>\n",
       "      <td>2014-01-01</td>\n",
       "      <td>1</td>\n",
       "    </tr>\n",
       "    <tr>\n",
       "      <th>2</th>\n",
       "      <td>2014-02-01</td>\n",
       "      <td>1</td>\n",
       "    </tr>\n",
       "    <tr>\n",
       "      <th>3</th>\n",
       "      <td>2014-03-01</td>\n",
       "      <td>1</td>\n",
       "    </tr>\n",
       "    <tr>\n",
       "      <th>4</th>\n",
       "      <td>2014-04-01</td>\n",
       "      <td>1</td>\n",
       "    </tr>\n",
       "    <tr>\n",
       "      <th>5</th>\n",
       "      <td>2014-05-01</td>\n",
       "      <td>1</td>\n",
       "    </tr>\n",
       "    <tr>\n",
       "      <th>...</th>\n",
       "      <td>...</td>\n",
       "      <td>...</td>\n",
       "    </tr>\n",
       "    <tr>\n",
       "      <th>95</th>\n",
       "      <td>2021-11-01</td>\n",
       "      <td>54</td>\n",
       "    </tr>\n",
       "    <tr>\n",
       "      <th>96</th>\n",
       "      <td>2021-12-01</td>\n",
       "      <td>100</td>\n",
       "    </tr>\n",
       "    <tr>\n",
       "      <th>97</th>\n",
       "      <td>2022-01-01</td>\n",
       "      <td>37</td>\n",
       "    </tr>\n",
       "    <tr>\n",
       "      <th>98</th>\n",
       "      <td>2022-02-01</td>\n",
       "      <td>24</td>\n",
       "    </tr>\n",
       "    <tr>\n",
       "      <th>99</th>\n",
       "      <td>2022-03-01</td>\n",
       "      <td>24</td>\n",
       "    </tr>\n",
       "  </tbody>\n",
       "</table>\n",
       "<p>99 rows × 2 columns</p>\n",
       "</div>"
      ],
      "text/plain": [
       "         Date  number_of_searchs_dollar\n",
       "1  2014-01-01                         1\n",
       "2  2014-02-01                         1\n",
       "3  2014-03-01                         1\n",
       "4  2014-04-01                         1\n",
       "5  2014-05-01                         1\n",
       "..        ...                       ...\n",
       "95 2021-11-01                        54\n",
       "96 2021-12-01                       100\n",
       "97 2022-01-01                        37\n",
       "98 2022-02-01                        24\n",
       "99 2022-03-01                        24\n",
       "\n",
       "[99 rows x 2 columns]"
      ]
     },
     "execution_count": 18,
     "metadata": {},
     "output_type": "execute_result"
    }
   ],
   "source": [
    "dollar_search = partitionString(dollar_search, 0, 'number_of_searchs_dollar')\n",
    "dollar_search['number_of_searchs_dollar'] = pd.to_numeric(dollar_search['number_of_searchs_dollar'], errors='coerce')\n",
    "dollar_search['Date'] = pd.to_datetime(dollar_search['Date'], errors=\"coerce\", format=\"%Y-%m\")\n",
    "dollar_search = dollar_search.dropna()\n",
    "dollar_search = dollar_search.sort_values('Date', ascending=True)\n",
    "dollar_search['number_of_searchs_dollar'] = dollar_search['number_of_searchs_dollar'].astype('int')\n",
    "print(dollar_search.info())\n",
    "dollar_search"
   ]
  },
  {
   "cell_type": "markdown",
   "metadata": {},
   "source": [
    "Now that the both data are cleaned, let us check whether there are any conflicts between their time columns. If there are, they also need to be handled for the two datasets to be merged."
   ]
  },
  {
   "cell_type": "code",
   "execution_count": 19,
   "metadata": {},
   "outputs": [
    {
     "data": {
      "text/plain": [
       "True"
      ]
     },
     "execution_count": 19,
     "metadata": {},
     "output_type": "execute_result"
    }
   ],
   "source": [
    "match = interest_search['Date'] == dollar_search['Date']\n",
    "sum(match) == len(match)"
   ]
  },
  {
   "cell_type": "markdown",
   "metadata": {},
   "source": [
    "It seems there is no problem, so the merge can be done safely."
   ]
  },
  {
   "cell_type": "code",
   "execution_count": 20,
   "metadata": {},
   "outputs": [
    {
     "name": "stdout",
     "output_type": "stream",
     "text": [
      "<class 'pandas.core.frame.DataFrame'>\n",
      "RangeIndex: 99 entries, 0 to 98\n",
      "Data columns (total 3 columns):\n",
      " #   Column                      Non-Null Count  Dtype         \n",
      "---  ------                      --------------  -----         \n",
      " 0   Date                        99 non-null     datetime64[ns]\n",
      " 1   number_of_searchs_interest  99 non-null     int32         \n",
      " 2   number_of_searchs_dollar    99 non-null     int32         \n",
      "dtypes: datetime64[ns](1), int32(2)\n",
      "memory usage: 1.7 KB\n",
      "None\n"
     ]
    },
    {
     "data": {
      "text/html": [
       "<div>\n",
       "<style scoped>\n",
       "    .dataframe tbody tr th:only-of-type {\n",
       "        vertical-align: middle;\n",
       "    }\n",
       "\n",
       "    .dataframe tbody tr th {\n",
       "        vertical-align: top;\n",
       "    }\n",
       "\n",
       "    .dataframe thead th {\n",
       "        text-align: right;\n",
       "    }\n",
       "</style>\n",
       "<table border=\"1\" class=\"dataframe\">\n",
       "  <thead>\n",
       "    <tr style=\"text-align: right;\">\n",
       "      <th></th>\n",
       "      <th>Date</th>\n",
       "      <th>number_of_searchs_interest</th>\n",
       "      <th>number_of_searchs_dollar</th>\n",
       "    </tr>\n",
       "  </thead>\n",
       "  <tbody>\n",
       "    <tr>\n",
       "      <th>0</th>\n",
       "      <td>2014-01-01</td>\n",
       "      <td>15</td>\n",
       "      <td>1</td>\n",
       "    </tr>\n",
       "    <tr>\n",
       "      <th>1</th>\n",
       "      <td>2014-02-01</td>\n",
       "      <td>13</td>\n",
       "      <td>1</td>\n",
       "    </tr>\n",
       "    <tr>\n",
       "      <th>2</th>\n",
       "      <td>2014-03-01</td>\n",
       "      <td>10</td>\n",
       "      <td>1</td>\n",
       "    </tr>\n",
       "    <tr>\n",
       "      <th>3</th>\n",
       "      <td>2014-04-01</td>\n",
       "      <td>12</td>\n",
       "      <td>1</td>\n",
       "    </tr>\n",
       "    <tr>\n",
       "      <th>4</th>\n",
       "      <td>2014-05-01</td>\n",
       "      <td>12</td>\n",
       "      <td>1</td>\n",
       "    </tr>\n",
       "    <tr>\n",
       "      <th>...</th>\n",
       "      <td>...</td>\n",
       "      <td>...</td>\n",
       "      <td>...</td>\n",
       "    </tr>\n",
       "    <tr>\n",
       "      <th>94</th>\n",
       "      <td>2021-11-01</td>\n",
       "      <td>41</td>\n",
       "      <td>54</td>\n",
       "    </tr>\n",
       "    <tr>\n",
       "      <th>95</th>\n",
       "      <td>2021-12-01</td>\n",
       "      <td>46</td>\n",
       "      <td>100</td>\n",
       "    </tr>\n",
       "    <tr>\n",
       "      <th>96</th>\n",
       "      <td>2022-01-01</td>\n",
       "      <td>37</td>\n",
       "      <td>37</td>\n",
       "    </tr>\n",
       "    <tr>\n",
       "      <th>97</th>\n",
       "      <td>2022-02-01</td>\n",
       "      <td>29</td>\n",
       "      <td>24</td>\n",
       "    </tr>\n",
       "    <tr>\n",
       "      <th>98</th>\n",
       "      <td>2022-03-01</td>\n",
       "      <td>29</td>\n",
       "      <td>24</td>\n",
       "    </tr>\n",
       "  </tbody>\n",
       "</table>\n",
       "<p>99 rows × 3 columns</p>\n",
       "</div>"
      ],
      "text/plain": [
       "         Date  number_of_searchs_interest  number_of_searchs_dollar\n",
       "0  2014-01-01                          15                         1\n",
       "1  2014-02-01                          13                         1\n",
       "2  2014-03-01                          10                         1\n",
       "3  2014-04-01                          12                         1\n",
       "4  2014-05-01                          12                         1\n",
       "..        ...                         ...                       ...\n",
       "94 2021-11-01                          41                        54\n",
       "95 2021-12-01                          46                       100\n",
       "96 2022-01-01                          37                        37\n",
       "97 2022-02-01                          29                        24\n",
       "98 2022-03-01                          29                        24\n",
       "\n",
       "[99 rows x 3 columns]"
      ]
     },
     "execution_count": 20,
     "metadata": {},
     "output_type": "execute_result"
    }
   ],
   "source": [
    "search = interest_search.copy()\n",
    "search['number_of_searchs_dollar'] = dollar_search['number_of_searchs_dollar']\n",
    "search = search.reset_index(drop=True)\n",
    "print(search.info())\n",
    "search"
   ]
  },
  {
   "cell_type": "markdown",
   "metadata": {},
   "source": [
    "Plot the data."
   ]
  },
  {
   "cell_type": "code",
   "execution_count": 21,
   "metadata": {},
   "outputs": [
    {
     "data": {
      "text/plain": [
       "<Figure size 432x288 with 0 Axes>"
      ]
     },
     "metadata": {},
     "output_type": "display_data"
    },
    {
     "data": {
      "image/png": "[encoded data removed]",
      "text/plain": [
       "<Figure size 432x288 with 1 Axes>"
      ]
     },
     "metadata": {
      "needs_background": "light"
     },
     "output_type": "display_data"
    },
    {
     "data": {
      "image/png": "[encoded data removed]",
      "text/plain": [
       "<Figure size 432x288 with 1 Axes>"
      ]
     },
     "metadata": {
      "needs_background": "light"
     },
     "output_type": "display_data"
    }
   ],
   "source": [
    "plotAll(search, x_axis_name='Date', plot_type='line')"
   ]
  },
  {
   "cell_type": "code",
   "execution_count": 22,
   "metadata": {},
   "outputs": [
    {
     "data": {
      "text/plain": [
       "<Figure size 432x288 with 0 Axes>"
      ]
     },
     "metadata": {},
     "output_type": "display_data"
    },
    {
     "data": {
      "image/png": "[encoded data removed]",
      "text/plain": [
       "<Figure size 432x288 with 1 Axes>"
      ]
     },
     "metadata": {
      "needs_background": "light"
     },
     "output_type": "display_data"
    },
    {
     "data": {
      "image/png": "[encoded data removed]",
      "text/plain": [
       "<Figure size 432x288 with 1 Axes>"
      ]
     },
     "metadata": {
      "needs_background": "light"
     },
     "output_type": "display_data"
    }
   ],
   "source": [
    "plotAll(search, x_axis_name='Date', plot_type='box')"
   ]
  },
  {
   "cell_type": "markdown",
   "metadata": {},
   "source": [
    "See the correlation. Prior to the output, it can be said that there is no apparent reason to expect a high correlation between the two."
   ]
  },
  {
   "cell_type": "code",
   "execution_count": 23,
   "metadata": {},
   "outputs": [
    {
     "data": {
      "text/html": [
       "<div>\n",
       "<style scoped>\n",
       "    .dataframe tbody tr th:only-of-type {\n",
       "        vertical-align: middle;\n",
       "    }\n",
       "\n",
       "    .dataframe tbody tr th {\n",
       "        vertical-align: top;\n",
       "    }\n",
       "\n",
       "    .dataframe thead th {\n",
       "        text-align: right;\n",
       "    }\n",
       "</style>\n",
       "<table border=\"1\" class=\"dataframe\">\n",
       "  <thead>\n",
       "    <tr style=\"text-align: right;\">\n",
       "      <th></th>\n",
       "      <th>number_of_searchs_interest</th>\n",
       "      <th>number_of_searchs_dollar</th>\n",
       "    </tr>\n",
       "  </thead>\n",
       "  <tbody>\n",
       "    <tr>\n",
       "      <th>number_of_searchs_interest</th>\n",
       "      <td>1.000000</td>\n",
       "      <td>0.443913</td>\n",
       "    </tr>\n",
       "    <tr>\n",
       "      <th>number_of_searchs_dollar</th>\n",
       "      <td>0.443913</td>\n",
       "      <td>1.000000</td>\n",
       "    </tr>\n",
       "  </tbody>\n",
       "</table>\n",
       "</div>"
      ],
      "text/plain": [
       "                            number_of_searchs_interest  \\\n",
       "number_of_searchs_interest                    1.000000   \n",
       "number_of_searchs_dollar                      0.443913   \n",
       "\n",
       "                            number_of_searchs_dollar  \n",
       "number_of_searchs_interest                  0.443913  \n",
       "number_of_searchs_dollar                    1.000000  "
      ]
     },
     "execution_count": 23,
     "metadata": {},
     "output_type": "execute_result"
    }
   ],
   "source": [
    "search.corr()"
   ]
  },
  {
   "cell_type": "markdown",
   "metadata": {},
   "source": [
    "Now it is the time for mergeing the EVDS and Google Trends data. As their time horizons differ from each other, they need to be taken into the same time horizon."
   ]
  },
  {
   "cell_type": "code",
   "execution_count": 24,
   "metadata": {},
   "outputs": [
    {
     "name": "stdout",
     "output_type": "stream",
     "text": [
      "<class 'pandas.core.frame.DataFrame'>\n",
      "RangeIndex: 96 entries, 0 to 95\n",
      "Data columns (total 8 columns):\n",
      " #   Column             Non-Null Count  Dtype         \n",
      "---  ------             --------------  -----         \n",
      " 0   Date               96 non-null     datetime64[ns]\n",
      " 1   transactions       96 non-null     int32         \n",
      " 2   USD                96 non-null     float64       \n",
      " 3   interest_rate      96 non-null     float64       \n",
      " 4   CPI                96 non-null     float64       \n",
      " 5   unemployment_rate  96 non-null     float64       \n",
      " 6   interest_search    96 non-null     int32         \n",
      " 7   dollar_search      96 non-null     int32         \n",
      "dtypes: datetime64[ns](1), float64(4), int32(3)\n",
      "memory usage: 5.0 KB\n",
      "None\n"
     ]
    },
    {
     "data": {
      "text/html": [
       "<div>\n",
       "<style scoped>\n",
       "    .dataframe tbody tr th:only-of-type {\n",
       "        vertical-align: middle;\n",
       "    }\n",
       "\n",
       "    .dataframe tbody tr th {\n",
       "        vertical-align: top;\n",
       "    }\n",
       "\n",
       "    .dataframe thead th {\n",
       "        text-align: right;\n",
       "    }\n",
       "</style>\n",
       "<table border=\"1\" class=\"dataframe\">\n",
       "  <thead>\n",
       "    <tr style=\"text-align: right;\">\n",
       "      <th></th>\n",
       "      <th>Date</th>\n",
       "      <th>transactions</th>\n",
       "      <th>USD</th>\n",
       "      <th>interest_rate</th>\n",
       "      <th>CPI</th>\n",
       "      <th>unemployment_rate</th>\n",
       "      <th>interest_search</th>\n",
       "      <th>dollar_search</th>\n",
       "    </tr>\n",
       "  </thead>\n",
       "  <tbody>\n",
       "    <tr>\n",
       "      <th>0</th>\n",
       "      <td>2014-03-01</td>\n",
       "      <td>88442695</td>\n",
       "      <td>2.22</td>\n",
       "      <td>17.15</td>\n",
       "      <td>237.18</td>\n",
       "      <td>9.5</td>\n",
       "      <td>15</td>\n",
       "      <td>1</td>\n",
       "    </tr>\n",
       "    <tr>\n",
       "      <th>1</th>\n",
       "      <td>2014-04-01</td>\n",
       "      <td>89593310</td>\n",
       "      <td>2.13</td>\n",
       "      <td>16.87</td>\n",
       "      <td>240.37</td>\n",
       "      <td>9.7</td>\n",
       "      <td>13</td>\n",
       "      <td>1</td>\n",
       "    </tr>\n",
       "    <tr>\n",
       "      <th>2</th>\n",
       "      <td>2014-05-01</td>\n",
       "      <td>113839901</td>\n",
       "      <td>2.09</td>\n",
       "      <td>16.68</td>\n",
       "      <td>241.32</td>\n",
       "      <td>9.7</td>\n",
       "      <td>10</td>\n",
       "      <td>1</td>\n",
       "    </tr>\n",
       "    <tr>\n",
       "      <th>3</th>\n",
       "      <td>2014-06-01</td>\n",
       "      <td>93962733</td>\n",
       "      <td>2.12</td>\n",
       "      <td>15.96</td>\n",
       "      <td>242.07</td>\n",
       "      <td>9.7</td>\n",
       "      <td>12</td>\n",
       "      <td>1</td>\n",
       "    </tr>\n",
       "    <tr>\n",
       "      <th>4</th>\n",
       "      <td>2014-07-01</td>\n",
       "      <td>92328322</td>\n",
       "      <td>2.12</td>\n",
       "      <td>15.32</td>\n",
       "      <td>243.17</td>\n",
       "      <td>9.9</td>\n",
       "      <td>12</td>\n",
       "      <td>1</td>\n",
       "    </tr>\n",
       "    <tr>\n",
       "      <th>...</th>\n",
       "      <td>...</td>\n",
       "      <td>...</td>\n",
       "      <td>...</td>\n",
       "      <td>...</td>\n",
       "      <td>...</td>\n",
       "      <td>...</td>\n",
       "      <td>...</td>\n",
       "      <td>...</td>\n",
       "    </tr>\n",
       "    <tr>\n",
       "      <th>91</th>\n",
       "      <td>2021-10-01</td>\n",
       "      <td>298875941</td>\n",
       "      <td>9.14</td>\n",
       "      <td>23.34</td>\n",
       "      <td>584.32</td>\n",
       "      <td>11.1</td>\n",
       "      <td>30</td>\n",
       "      <td>11</td>\n",
       "    </tr>\n",
       "    <tr>\n",
       "      <th>92</th>\n",
       "      <td>2021-11-01</td>\n",
       "      <td>246774590</td>\n",
       "      <td>10.52</td>\n",
       "      <td>23.44</td>\n",
       "      <td>604.84</td>\n",
       "      <td>11.1</td>\n",
       "      <td>28</td>\n",
       "      <td>13</td>\n",
       "    </tr>\n",
       "    <tr>\n",
       "      <th>93</th>\n",
       "      <td>2021-12-01</td>\n",
       "      <td>323952533</td>\n",
       "      <td>13.53</td>\n",
       "      <td>26.54</td>\n",
       "      <td>686.95</td>\n",
       "      <td>11.1</td>\n",
       "      <td>36</td>\n",
       "      <td>23</td>\n",
       "    </tr>\n",
       "    <tr>\n",
       "      <th>94</th>\n",
       "      <td>2022-01-01</td>\n",
       "      <td>256257819</td>\n",
       "      <td>13.52</td>\n",
       "      <td>31.70</td>\n",
       "      <td>763.23</td>\n",
       "      <td>11.2</td>\n",
       "      <td>41</td>\n",
       "      <td>54</td>\n",
       "    </tr>\n",
       "    <tr>\n",
       "      <th>95</th>\n",
       "      <td>2022-02-01</td>\n",
       "      <td>264335442</td>\n",
       "      <td>13.62</td>\n",
       "      <td>29.87</td>\n",
       "      <td>799.93</td>\n",
       "      <td>10.7</td>\n",
       "      <td>46</td>\n",
       "      <td>100</td>\n",
       "    </tr>\n",
       "  </tbody>\n",
       "</table>\n",
       "<p>96 rows × 8 columns</p>\n",
       "</div>"
      ],
      "text/plain": [
       "         Date  transactions    USD  interest_rate     CPI  unemployment_rate  \\\n",
       "0  2014-03-01      88442695   2.22          17.15  237.18                9.5   \n",
       "1  2014-04-01      89593310   2.13          16.87  240.37                9.7   \n",
       "2  2014-05-01     113839901   2.09          16.68  241.32                9.7   \n",
       "3  2014-06-01      93962733   2.12          15.96  242.07                9.7   \n",
       "4  2014-07-01      92328322   2.12          15.32  243.17                9.9   \n",
       "..        ...           ...    ...            ...     ...                ...   \n",
       "91 2021-10-01     298875941   9.14          23.34  584.32               11.1   \n",
       "92 2021-11-01     246774590  10.52          23.44  604.84               11.1   \n",
       "93 2021-12-01     323952533  13.53          26.54  686.95               11.1   \n",
       "94 2022-01-01     256257819  13.52          31.70  763.23               11.2   \n",
       "95 2022-02-01     264335442  13.62          29.87  799.93               10.7   \n",
       "\n",
       "    interest_search  dollar_search  \n",
       "0                15              1  \n",
       "1                13              1  \n",
       "2                10              1  \n",
       "3                12              1  \n",
       "4                12              1  \n",
       "..              ...            ...  \n",
       "91               30             11  \n",
       "92               28             13  \n",
       "93               36             23  \n",
       "94               41             54  \n",
       "95               46            100  \n",
       "\n",
       "[96 rows x 8 columns]"
      ]
     },
     "execution_count": 24,
     "metadata": {},
     "output_type": "execute_result"
    }
   ],
   "source": [
    "earliest = min(inflation.iloc[0]['Date'], search.iloc[0]['Date'])\n",
    "latest = max(inflation.iloc[len(inflation)-1]['Date'], search.iloc[len(search)-1]['Date'])\n",
    "\n",
    "data = inflation.copy()\n",
    "data['interest_search'] = search[(search['Date']>=earliest)&(search['Date']<=latest)]['number_of_searchs_interest']\n",
    "data['dollar_search'] = search[(search['Date']>=earliest)&(search['Date']<=latest)]['number_of_searchs_dollar']\n",
    "print(data.info())\n",
    "data"
   ]
  },
  {
   "cell_type": "markdown",
   "metadata": {},
   "source": [
    "Check the correlations."
   ]
  },
  {
   "cell_type": "code",
   "execution_count": 25,
   "metadata": {},
   "outputs": [
    {
     "data": {
      "text/html": [
       "<div>\n",
       "<style scoped>\n",
       "    .dataframe tbody tr th:only-of-type {\n",
       "        vertical-align: middle;\n",
       "    }\n",
       "\n",
       "    .dataframe tbody tr th {\n",
       "        vertical-align: top;\n",
       "    }\n",
       "\n",
       "    .dataframe thead th {\n",
       "        text-align: right;\n",
       "    }\n",
       "</style>\n",
       "<table border=\"1\" class=\"dataframe\">\n",
       "  <thead>\n",
       "    <tr style=\"text-align: right;\">\n",
       "      <th></th>\n",
       "      <th>transactions</th>\n",
       "      <th>USD</th>\n",
       "      <th>interest_rate</th>\n",
       "      <th>CPI</th>\n",
       "      <th>unemployment_rate</th>\n",
       "      <th>interest_search</th>\n",
       "      <th>dollar_search</th>\n",
       "    </tr>\n",
       "  </thead>\n",
       "  <tbody>\n",
       "    <tr>\n",
       "      <th>transactions</th>\n",
       "      <td>1.000000</td>\n",
       "      <td>0.905112</td>\n",
       "      <td>0.427742</td>\n",
       "      <td>0.912421</td>\n",
       "      <td>0.434932</td>\n",
       "      <td>0.523811</td>\n",
       "      <td>0.549141</td>\n",
       "    </tr>\n",
       "    <tr>\n",
       "      <th>USD</th>\n",
       "      <td>0.905112</td>\n",
       "      <td>1.000000</td>\n",
       "      <td>0.510716</td>\n",
       "      <td>0.990095</td>\n",
       "      <td>0.484971</td>\n",
       "      <td>0.614834</td>\n",
       "      <td>0.727648</td>\n",
       "    </tr>\n",
       "    <tr>\n",
       "      <th>interest_rate</th>\n",
       "      <td>0.427742</td>\n",
       "      <td>0.510716</td>\n",
       "      <td>1.000000</td>\n",
       "      <td>0.490140</td>\n",
       "      <td>0.255460</td>\n",
       "      <td>0.267947</td>\n",
       "      <td>0.601658</td>\n",
       "    </tr>\n",
       "    <tr>\n",
       "      <th>CPI</th>\n",
       "      <td>0.912421</td>\n",
       "      <td>0.990095</td>\n",
       "      <td>0.490140</td>\n",
       "      <td>1.000000</td>\n",
       "      <td>0.514235</td>\n",
       "      <td>0.642750</td>\n",
       "      <td>0.734052</td>\n",
       "    </tr>\n",
       "    <tr>\n",
       "      <th>unemployment_rate</th>\n",
       "      <td>0.434932</td>\n",
       "      <td>0.484971</td>\n",
       "      <td>0.255460</td>\n",
       "      <td>0.514235</td>\n",
       "      <td>1.000000</td>\n",
       "      <td>0.729162</td>\n",
       "      <td>0.285452</td>\n",
       "    </tr>\n",
       "    <tr>\n",
       "      <th>interest_search</th>\n",
       "      <td>0.523811</td>\n",
       "      <td>0.614834</td>\n",
       "      <td>0.267947</td>\n",
       "      <td>0.642750</td>\n",
       "      <td>0.729162</td>\n",
       "      <td>1.000000</td>\n",
       "      <td>0.446340</td>\n",
       "    </tr>\n",
       "    <tr>\n",
       "      <th>dollar_search</th>\n",
       "      <td>0.549141</td>\n",
       "      <td>0.727648</td>\n",
       "      <td>0.601658</td>\n",
       "      <td>0.734052</td>\n",
       "      <td>0.285452</td>\n",
       "      <td>0.446340</td>\n",
       "      <td>1.000000</td>\n",
       "    </tr>\n",
       "  </tbody>\n",
       "</table>\n",
       "</div>"
      ],
      "text/plain": [
       "                   transactions       USD  interest_rate       CPI  \\\n",
       "transactions           1.000000  0.905112       0.427742  0.912421   \n",
       "USD                    0.905112  1.000000       0.510716  0.990095   \n",
       "interest_rate          0.427742  0.510716       1.000000  0.490140   \n",
       "CPI                    0.912421  0.990095       0.490140  1.000000   \n",
       "unemployment_rate      0.434932  0.484971       0.255460  0.514235   \n",
       "interest_search        0.523811  0.614834       0.267947  0.642750   \n",
       "dollar_search          0.549141  0.727648       0.601658  0.734052   \n",
       "\n",
       "                   unemployment_rate  interest_search  dollar_search  \n",
       "transactions                0.434932         0.523811       0.549141  \n",
       "USD                         0.484971         0.614834       0.727648  \n",
       "interest_rate               0.255460         0.267947       0.601658  \n",
       "CPI                         0.514235         0.642750       0.734052  \n",
       "unemployment_rate           1.000000         0.729162       0.285452  \n",
       "interest_search             0.729162         1.000000       0.446340  \n",
       "dollar_search               0.285452         0.446340       1.000000  "
      ]
     },
     "execution_count": 25,
     "metadata": {},
     "output_type": "execute_result"
    }
   ],
   "source": [
    "data.corr()"
   ]
  },
  {
   "cell_type": "markdown",
   "metadata": {},
   "source": [
    "As mentioned before, what is expected is the positive correlations between not dollar_search and USD but dollar_search and sharp changes in USD (same is true for interest_search and interest_rate). But before the analysis of this, one may pay attention to the high correlations of interest_rate-dollar_search, CPI-interest_search, CPI-dollar_search, unemployment_rate-interest_search and USD-dollar_search. The last one is relatively high already. One can also think that it is expected to see a positive correlation between unemployment_rate and interest_search as unumployment is possibly conducive to a need for loans. \n",
    "\n",
    "Now let us add two columns -one for the changes in the USD/TRY exchange rates and the other for the changes in the interest rates- to see whether they are really correlated with the amount of searchings in the Google search engine."
   ]
  },
  {
   "cell_type": "code",
   "execution_count": 26,
   "metadata": {},
   "outputs": [
    {
     "data": {
      "text/html": [
       "<div>\n",
       "<style scoped>\n",
       "    .dataframe tbody tr th:only-of-type {\n",
       "        vertical-align: middle;\n",
       "    }\n",
       "\n",
       "    .dataframe tbody tr th {\n",
       "        vertical-align: top;\n",
       "    }\n",
       "\n",
       "    .dataframe thead th {\n",
       "        text-align: right;\n",
       "    }\n",
       "</style>\n",
       "<table border=\"1\" class=\"dataframe\">\n",
       "  <thead>\n",
       "    <tr style=\"text-align: right;\">\n",
       "      <th></th>\n",
       "      <th>Date</th>\n",
       "      <th>interest_search</th>\n",
       "      <th>dollar_search</th>\n",
       "      <th>USD_change</th>\n",
       "      <th>interest_change</th>\n",
       "    </tr>\n",
       "  </thead>\n",
       "  <tbody>\n",
       "    <tr>\n",
       "      <th>1</th>\n",
       "      <td>2014-04-01</td>\n",
       "      <td>13</td>\n",
       "      <td>1</td>\n",
       "      <td>0.09</td>\n",
       "      <td>0.28</td>\n",
       "    </tr>\n",
       "    <tr>\n",
       "      <th>2</th>\n",
       "      <td>2014-05-01</td>\n",
       "      <td>10</td>\n",
       "      <td>1</td>\n",
       "      <td>0.04</td>\n",
       "      <td>0.19</td>\n",
       "    </tr>\n",
       "    <tr>\n",
       "      <th>3</th>\n",
       "      <td>2014-06-01</td>\n",
       "      <td>12</td>\n",
       "      <td>1</td>\n",
       "      <td>0.03</td>\n",
       "      <td>0.72</td>\n",
       "    </tr>\n",
       "    <tr>\n",
       "      <th>4</th>\n",
       "      <td>2014-07-01</td>\n",
       "      <td>12</td>\n",
       "      <td>1</td>\n",
       "      <td>0.00</td>\n",
       "      <td>0.64</td>\n",
       "    </tr>\n",
       "    <tr>\n",
       "      <th>5</th>\n",
       "      <td>2014-08-01</td>\n",
       "      <td>12</td>\n",
       "      <td>1</td>\n",
       "      <td>0.04</td>\n",
       "      <td>0.24</td>\n",
       "    </tr>\n",
       "  </tbody>\n",
       "</table>\n",
       "</div>"
      ],
      "text/plain": [
       "        Date  interest_search  dollar_search  USD_change  interest_change\n",
       "1 2014-04-01               13              1        0.09             0.28\n",
       "2 2014-05-01               10              1        0.04             0.19\n",
       "3 2014-06-01               12              1        0.03             0.72\n",
       "4 2014-07-01               12              1        0.00             0.64\n",
       "5 2014-08-01               12              1        0.04             0.24"
      ]
     },
     "execution_count": 26,
     "metadata": {},
     "output_type": "execute_result"
    }
   ],
   "source": [
    "change_vs_search = data[['Date', 'interest_search', 'dollar_search']][1:]\n",
    "change_vs_search['USD_change'] = abs(np.diff(data['USD'], n=1))\n",
    "change_vs_search['interest_change'] = abs(np.diff(data['interest_rate'], n=1))\n",
    "change_vs_search.head()"
   ]
  },
  {
   "cell_type": "code",
   "execution_count": 27,
   "metadata": {},
   "outputs": [
    {
     "data": {
      "text/plain": [
       "<Figure size 432x288 with 0 Axes>"
      ]
     },
     "metadata": {},
     "output_type": "display_data"
    },
    {
     "data": {
      "image/png": "[encoded data removed]",
      "text/plain": [
       "<Figure size 432x288 with 1 Axes>"
      ]
     },
     "metadata": {
      "needs_background": "light"
     },
     "output_type": "display_data"
    },
    {
     "data": {
      "image/png": "[encoded data removed]",
      "text/plain": [
       "<Figure size 432x288 with 1 Axes>"
      ]
     },
     "metadata": {
      "needs_background": "light"
     },
     "output_type": "display_data"
    }
   ],
   "source": [
    "plotAll(change_vs_search[['Date', 'USD_change', 'dollar_search']], x_axis_name='Date', plot_type='line')"
   ]
  },
  {
   "cell_type": "code",
   "execution_count": 28,
   "metadata": {},
   "outputs": [
    {
     "data": {
      "text/plain": [
       "<Figure size 432x288 with 0 Axes>"
      ]
     },
     "metadata": {},
     "output_type": "display_data"
    },
    {
     "data": {
      "image/png": "[encoded data removed]",
      "text/plain": [
       "<Figure size 432x288 with 1 Axes>"
      ]
     },
     "metadata": {
      "needs_background": "light"
     },
     "output_type": "display_data"
    },
    {
     "data": {
      "image/png": "[encoded data removed]",
      "text/plain": [
       "<Figure size 432x288 with 1 Axes>"
      ]
     },
     "metadata": {
      "needs_background": "light"
     },
     "output_type": "display_data"
    }
   ],
   "source": [
    "plotAll(change_vs_search[['Date', 'interest_change', 'interest_search']], x_axis_name='Date', plot_type='line')"
   ]
  },
  {
   "cell_type": "markdown",
   "metadata": {},
   "source": [
    "It seems that there are some overlapping in the ups and downs of the above pairs, especially for the dollar plots. Seeing them on the same plot might be more informative."
   ]
  },
  {
   "cell_type": "code",
   "execution_count": 29,
   "metadata": {},
   "outputs": [
    {
     "data": {
      "image/png": "[encoded data removed]",
      "text/plain": [
       "<Figure size 432x288 with 2 Axes>"
      ]
     },
     "metadata": {
      "needs_background": "light"
     },
     "output_type": "display_data"
    }
   ],
   "source": [
    "fig, ax = plt.subplots(1, 1)\n",
    "usd, usd_search, time = np.array(change_vs_search['USD_change']), np.array(change_vs_search['dollar_search']), np.array(change_vs_search['Date'])\n",
    "ax.plot(time, usd, 'r', label=\"USD/TRY changes\")\n",
    "plt.legend(loc=\"upper left\")\n",
    "ax2 = ax.twinx()\n",
    "ax2.plot(time, usd_search, 'b', label=\"dolar search volume\")\n",
    "plt.legend(loc=\"upper right\")\n",
    "plt.draw()"
   ]
  },
  {
   "cell_type": "code",
   "execution_count": 30,
   "metadata": {},
   "outputs": [
    {
     "data": {
      "text/html": [
       "<div>\n",
       "<style scoped>\n",
       "    .dataframe tbody tr th:only-of-type {\n",
       "        vertical-align: middle;\n",
       "    }\n",
       "\n",
       "    .dataframe tbody tr th {\n",
       "        vertical-align: top;\n",
       "    }\n",
       "\n",
       "    .dataframe thead th {\n",
       "        text-align: right;\n",
       "    }\n",
       "</style>\n",
       "<table border=\"1\" class=\"dataframe\">\n",
       "  <thead>\n",
       "    <tr style=\"text-align: right;\">\n",
       "      <th></th>\n",
       "      <th>interest_search</th>\n",
       "      <th>dollar_search</th>\n",
       "      <th>USD_change</th>\n",
       "      <th>interest_change</th>\n",
       "    </tr>\n",
       "  </thead>\n",
       "  <tbody>\n",
       "    <tr>\n",
       "      <th>interest_search</th>\n",
       "      <td>1.000000</td>\n",
       "      <td>0.443475</td>\n",
       "      <td>0.189929</td>\n",
       "      <td>0.487642</td>\n",
       "    </tr>\n",
       "    <tr>\n",
       "      <th>dollar_search</th>\n",
       "      <td>0.443475</td>\n",
       "      <td>1.000000</td>\n",
       "      <td>0.186091</td>\n",
       "      <td>0.373097</td>\n",
       "    </tr>\n",
       "    <tr>\n",
       "      <th>USD_change</th>\n",
       "      <td>0.189929</td>\n",
       "      <td>0.186091</td>\n",
       "      <td>1.000000</td>\n",
       "      <td>0.289536</td>\n",
       "    </tr>\n",
       "    <tr>\n",
       "      <th>interest_change</th>\n",
       "      <td>0.487642</td>\n",
       "      <td>0.373097</td>\n",
       "      <td>0.289536</td>\n",
       "      <td>1.000000</td>\n",
       "    </tr>\n",
       "  </tbody>\n",
       "</table>\n",
       "</div>"
      ],
      "text/plain": [
       "                 interest_search  dollar_search  USD_change  interest_change\n",
       "interest_search         1.000000       0.443475    0.189929         0.487642\n",
       "dollar_search           0.443475       1.000000    0.186091         0.373097\n",
       "USD_change              0.189929       0.186091    1.000000         0.289536\n",
       "interest_change         0.487642       0.373097    0.289536         1.000000"
      ]
     },
     "execution_count": 30,
     "metadata": {},
     "output_type": "execute_result"
    }
   ],
   "source": [
    "change_vs_search.corr()"
   ]
  },
  {
   "cell_type": "markdown",
   "metadata": {},
   "source": [
    "While there seems to be some correlation according to the plots, the numerical computation is not compatible with this observation. Of course, there may be some bias that calls for further analysis. \n",
    "\n",
    "Let us finally see the correlations on a heatmap."
   ]
  },
  {
   "cell_type": "code",
   "execution_count": 31,
   "metadata": {},
   "outputs": [
    {
     "data": {
      "image/png": "[encoded data removed]",
      "text/plain": [
       "<Figure size 432x288 with 2 Axes>"
      ]
     },
     "metadata": {
      "needs_background": "light"
     },
     "output_type": "display_data"
    }
   ],
   "source": [
    "mask = np.triu(np.ones_like(change_vs_search.corr()))\n",
    "dataplot_search = sns.heatmap(change_vs_search.corr(), cmap=\"YlGnBu\", annot=True, mask=mask)\n",
    "plt.show()"
   ]
  },
  {
   "cell_type": "markdown",
   "metadata": {},
   "source": [
    "# Conclusion"
   ]
  },
  {
   "cell_type": "markdown",
   "metadata": {},
   "source": [
    "Wrapping up, it was speculated that there are some relationships between the individual consumption, USD/TRY exchange rates, interest rates and unemployment rates and the inflation. Although none of the conclusions in this work are decisive, after the analysis on the EVDS data, only the possibility that an increase in the USD/TRY exchange rate causes the inflation is supported. The analysis on the Google Trends data gave plots that are promising for the idea that the search volumes of “dolar”, “faiz oranı” and sharp changes in their respective measurements are correlated. However, the calculated correlations were not sufficient to conclude this idea to be the case. Of course, this latter analysis additionally depends on the choice of the words to analyze. Maybe some other words would have appeared to have higher correlations with the relevant measurements in this work. At this point, there remains some further analysis for the Google Trends data and the measurements in the EVDS data that were expected to have a relationship with the inflation."
   ]
  },
  {
   "cell_type": "code",
   "execution_count": null,
   "metadata": {},
   "outputs": [],
   "source": []
  }
 ],
 "metadata": {
  "kernelspec": {
   "display_name": "Python 3",
   "language": "python",
   "name": "python3"
  },
  "language_info": {
   "codemirror_mode": {
    "name": "ipython",
    "version": 3
   },
   "file_extension": ".py",
   "mimetype": "text/x-python",
   "name": "python",
   "nbconvert_exporter": "python",
   "pygments_lexer": "ipython3",
   "version": "3.8.5"
  }
 },
 "nbformat": 4,
 "nbformat_minor": 4
}
